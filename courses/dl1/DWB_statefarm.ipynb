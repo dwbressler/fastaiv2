{
 "cells": [
  {
   "cell_type": "markdown",
   "metadata": {},
   "source": [
    "# download data"
   ]
  },
  {
   "cell_type": "code",
   "execution_count": 1,
   "metadata": {},
   "outputs": [],
   "source": [
    "# Put these at the top of every notebook, to get automatic reloading and inline plotting\n",
    "%reload_ext autoreload\n",
    "%autoreload 2\n",
    "%matplotlib inline"
   ]
  },
  {
   "cell_type": "code",
   "execution_count": 2,
   "metadata": {},
   "outputs": [],
   "source": [
    "# This file contains all the main external libs we'll use\n",
    "from fastai.imports import *"
   ]
  },
  {
   "cell_type": "code",
   "execution_count": 3,
   "metadata": {},
   "outputs": [],
   "source": [
    "from fastai.transforms import *\n",
    "from fastai.conv_learner import *\n",
    "from fastai.model import *\n",
    "from fastai.dataset import *\n",
    "from fastai.sgdr import *\n",
    "from fastai.plots import *\n",
    "from IPython.display import FileLink"
   ]
  },
  {
   "cell_type": "code",
   "execution_count": 4,
   "metadata": {},
   "outputs": [],
   "source": [
    "import pandas as pd\n",
    "import numpy as np"
   ]
  },
  {
   "cell_type": "code",
   "execution_count": 1,
   "metadata": {},
   "outputs": [
    {
     "name": "stdout",
     "output_type": "stream",
     "text": [
      "/home/paperspace/data\n"
     ]
    }
   ],
   "source": [
    "cd /home/paperspace/data/"
   ]
  },
  {
   "cell_type": "code",
   "execution_count": null,
   "metadata": {},
   "outputs": [],
   "source": []
  },
  {
   "cell_type": "code",
   "execution_count": 6,
   "metadata": {},
   "outputs": [
    {
     "name": "stdout",
     "output_type": "stream",
     "text": [
      "downloading https://www.kaggle.com/c/state-farm-distracted-driver-detection/download/sample_submission.csv.zip\n",
      "\n",
      "sample_submission.csv.zip 100% |####################| Time: 0:00:00 495.8 KiB/s\n",
      "\n",
      "downloading https://www.kaggle.com/c/state-farm-distracted-driver-detection/download/imgs.zip\n",
      "\n",
      "imgs.zip 100% |#####################################| Time: 0:01:41  40.4 MiB/s\n",
      "\n",
      "downloading https://www.kaggle.com/c/state-farm-distracted-driver-detection/download/driver_imgs_list.csv.zip\n",
      "\n",
      "driver_imgs_list.csv.zip 100% |#####################| Time: 0:00:00 187.0 KiB/s\n",
      "\n"
     ]
    }
   ],
   "source": [
    "#Need to first go to Kaggle website and accept rules for the competition!\n",
    "#!kg download -u superexistential -p XXXXXXXXX -c state-farm-distracted-driver-detection"
   ]
  },
  {
   "cell_type": "code",
   "execution_count": 7,
   "metadata": {},
   "outputs": [],
   "source": [
    "!mkdir ./statefarm\n",
    "!mv imgs.zip ./statefarm/\n",
    "!mv driver_imgs_list.csv.zip ./statefarm/\n",
    "!mv sample_submission.csv.zip ./statefarm/"
   ]
  },
  {
   "cell_type": "code",
   "execution_count": 5,
   "metadata": {},
   "outputs": [],
   "source": [
    "PATH='/home/paperspace/data/statefarm/'"
   ]
  },
  {
   "cell_type": "code",
   "execution_count": 6,
   "metadata": {},
   "outputs": [
    {
     "name": "stdout",
     "output_type": "stream",
     "text": [
      "/home/paperspace/data/statefarm\n"
     ]
    }
   ],
   "source": [
    "%cd $PATH"
   ]
  },
  {
   "cell_type": "code",
   "execution_count": 10,
   "metadata": {},
   "outputs": [],
   "source": [
    "!unzip -q imgs.zip\n",
    "!unzip -q driver_imgs_list.csv.zip\n",
    "!rm imgs.zip\n",
    "!rm driver_imgs_list.csv.zip\n"
   ]
  },
  {
   "cell_type": "code",
   "execution_count": 7,
   "metadata": {},
   "outputs": [
    {
     "name": "stdout",
     "output_type": "stream",
     "text": [
      "/home/paperspace/data/statefarm/train/c0\n",
      "/home/paperspace/data/statefarm/train/c1\n",
      "/home/paperspace/data/statefarm/train/c2\n",
      "/home/paperspace/data/statefarm/train/c3\n",
      "/home/paperspace/data/statefarm/train/c4\n",
      "/home/paperspace/data/statefarm/train/c5\n",
      "/home/paperspace/data/statefarm/train/c6\n",
      "/home/paperspace/data/statefarm/train/c7\n",
      "/home/paperspace/data/statefarm/train/c8\n",
      "/home/paperspace/data/statefarm/train/c9\n"
     ]
    }
   ],
   "source": [
    "#I want to try the from-csv approach, so I'm putting all the images in the train subfolders \n",
    "#back into the train main folder\n",
    "for i in range(10):\n",
    "    nupath=PATH+'train/c' + str(i)\n",
    "    %cd $nupath\n",
    "    g=glob('*.jpg')\n",
    "    shuf = np.random.permutation(g)\n",
    "    for j in range(len(shuf)):\n",
    "        os.rename(shuf[j], PATH+'train/'+shuf[j])\n",
    "        #shutil.copy(shuf[j], path+'valid/c'+str(i))\n"
   ]
  },
  {
   "cell_type": "markdown",
   "metadata": {},
   "source": [
    "# simple Howard-style analysis w/ resnet"
   ]
  },
  {
   "cell_type": "code",
   "execution_count": 1,
   "metadata": {},
   "outputs": [],
   "source": [
    "%reload_ext autoreload\n",
    "%autoreload 2\n",
    "%matplotlib inline"
   ]
  },
  {
   "cell_type": "code",
   "execution_count": 2,
   "metadata": {},
   "outputs": [],
   "source": [
    "# This file contains all the main external libs we'll use\n",
    "from fastai.imports import *\n",
    "from fastai.transforms import *\n",
    "from fastai.conv_learner import *\n",
    "from fastai.model import *\n",
    "from fastai.dataset import *\n",
    "from fastai.sgdr import *\n",
    "from fastai.plots import *\n",
    "import pandas as pd\n",
    "import numpy as np"
   ]
  },
  {
   "cell_type": "code",
   "execution_count": 8,
   "metadata": {},
   "outputs": [],
   "source": [
    "sz=64\n",
    "arch=resnet34\n",
    "bs=30"
   ]
  },
  {
   "cell_type": "code",
   "execution_count": 9,
   "metadata": {},
   "outputs": [],
   "source": [
    "PATH='/home/paperspace/data/statefarm/'"
   ]
  },
  {
   "cell_type": "code",
   "execution_count": 10,
   "metadata": {},
   "outputs": [],
   "source": [
    "label_csv = f'{PATH}driver_imgs_list.csv'\n",
    "tempcsv=pd.read_csv(label_csv)"
   ]
  },
  {
   "cell_type": "code",
   "execution_count": 11,
   "metadata": {},
   "outputs": [
    {
     "data": {
      "text/html": [
       "<div>\n",
       "<style scoped>\n",
       "    .dataframe tbody tr th:only-of-type {\n",
       "        vertical-align: middle;\n",
       "    }\n",
       "\n",
       "    .dataframe tbody tr th {\n",
       "        vertical-align: top;\n",
       "    }\n",
       "\n",
       "    .dataframe thead th {\n",
       "        text-align: right;\n",
       "    }\n",
       "</style>\n",
       "<table border=\"1\" class=\"dataframe\">\n",
       "  <thead>\n",
       "    <tr style=\"text-align: right;\">\n",
       "      <th></th>\n",
       "      <th>subject</th>\n",
       "      <th>classname</th>\n",
       "      <th>img</th>\n",
       "    </tr>\n",
       "  </thead>\n",
       "  <tbody>\n",
       "    <tr>\n",
       "      <th>0</th>\n",
       "      <td>p002</td>\n",
       "      <td>c0</td>\n",
       "      <td>img_44733.jpg</td>\n",
       "    </tr>\n",
       "    <tr>\n",
       "      <th>1</th>\n",
       "      <td>p002</td>\n",
       "      <td>c0</td>\n",
       "      <td>img_72999.jpg</td>\n",
       "    </tr>\n",
       "    <tr>\n",
       "      <th>2</th>\n",
       "      <td>p002</td>\n",
       "      <td>c0</td>\n",
       "      <td>img_25094.jpg</td>\n",
       "    </tr>\n",
       "    <tr>\n",
       "      <th>3</th>\n",
       "      <td>p002</td>\n",
       "      <td>c0</td>\n",
       "      <td>img_69092.jpg</td>\n",
       "    </tr>\n",
       "    <tr>\n",
       "      <th>4</th>\n",
       "      <td>p002</td>\n",
       "      <td>c0</td>\n",
       "      <td>img_92629.jpg</td>\n",
       "    </tr>\n",
       "  </tbody>\n",
       "</table>\n",
       "</div>"
      ],
      "text/plain": [
       "  subject classname            img\n",
       "0    p002        c0  img_44733.jpg\n",
       "1    p002        c0  img_72999.jpg\n",
       "2    p002        c0  img_25094.jpg\n",
       "3    p002        c0  img_69092.jpg\n",
       "4    p002        c0  img_92629.jpg"
      ]
     },
     "execution_count": 11,
     "metadata": {},
     "output_type": "execute_result"
    }
   ],
   "source": [
    "tempcsv.head()"
   ]
  },
  {
   "cell_type": "code",
   "execution_count": 12,
   "metadata": {},
   "outputs": [
    {
     "data": {
      "text/html": [
       "<div>\n",
       "<style scoped>\n",
       "    .dataframe tbody tr th:only-of-type {\n",
       "        vertical-align: middle;\n",
       "    }\n",
       "\n",
       "    .dataframe tbody tr th {\n",
       "        vertical-align: top;\n",
       "    }\n",
       "\n",
       "    .dataframe thead th {\n",
       "        text-align: right;\n",
       "    }\n",
       "</style>\n",
       "<table border=\"1\" class=\"dataframe\">\n",
       "  <thead>\n",
       "    <tr style=\"text-align: right;\">\n",
       "      <th></th>\n",
       "      <th>img</th>\n",
       "      <th>classname</th>\n",
       "    </tr>\n",
       "  </thead>\n",
       "  <tbody>\n",
       "    <tr>\n",
       "      <th>0</th>\n",
       "      <td>img_44733.jpg</td>\n",
       "      <td>c0</td>\n",
       "    </tr>\n",
       "    <tr>\n",
       "      <th>1</th>\n",
       "      <td>img_72999.jpg</td>\n",
       "      <td>c0</td>\n",
       "    </tr>\n",
       "    <tr>\n",
       "      <th>2</th>\n",
       "      <td>img_25094.jpg</td>\n",
       "      <td>c0</td>\n",
       "    </tr>\n",
       "    <tr>\n",
       "      <th>3</th>\n",
       "      <td>img_69092.jpg</td>\n",
       "      <td>c0</td>\n",
       "    </tr>\n",
       "    <tr>\n",
       "      <th>4</th>\n",
       "      <td>img_92629.jpg</td>\n",
       "      <td>c0</td>\n",
       "    </tr>\n",
       "  </tbody>\n",
       "</table>\n",
       "</div>"
      ],
      "text/plain": [
       "             img classname\n",
       "0  img_44733.jpg        c0\n",
       "1  img_72999.jpg        c0\n",
       "2  img_25094.jpg        c0\n",
       "3  img_69092.jpg        c0\n",
       "4  img_92629.jpg        c0"
      ]
     },
     "execution_count": 12,
     "metadata": {},
     "output_type": "execute_result"
    }
   ],
   "source": [
    "newcsv=tempcsv[['img','classname']]\n",
    "newcsv.head()"
   ]
  },
  {
   "cell_type": "code",
   "execution_count": 13,
   "metadata": {},
   "outputs": [],
   "source": [
    "newcsv.to_csv(f'{PATH}short_list.csv',columns=['img','classname'],index=False)"
   ]
  },
  {
   "cell_type": "code",
   "execution_count": 14,
   "metadata": {},
   "outputs": [
    {
     "data": {
      "text/plain": [
       "(4484,)"
      ]
     },
     "execution_count": 14,
     "metadata": {},
     "output_type": "execute_result"
    }
   ],
   "source": [
    "label_csv = f'{PATH}short_list.csv'\n",
    "n=len(list(open(label_csv)))-1 #number of images\n",
    "val_idxs = get_cv_idxs(n) #get_cv_idxs(n, cv_idx=0, val_pct=0.2, seed=42)... This grabs 20% of the indices at random for validation\n",
    "np.shape(val_idxs)"
   ]
  },
  {
   "cell_type": "code",
   "execution_count": 15,
   "metadata": {},
   "outputs": [],
   "source": [
    "label_df=pd.read_csv(label_csv)"
   ]
  },
  {
   "cell_type": "code",
   "execution_count": 16,
   "metadata": {},
   "outputs": [
    {
     "data": {
      "text/html": [
       "<div>\n",
       "<style scoped>\n",
       "    .dataframe tbody tr th:only-of-type {\n",
       "        vertical-align: middle;\n",
       "    }\n",
       "\n",
       "    .dataframe tbody tr th {\n",
       "        vertical-align: top;\n",
       "    }\n",
       "\n",
       "    .dataframe thead th {\n",
       "        text-align: right;\n",
       "    }\n",
       "</style>\n",
       "<table border=\"1\" class=\"dataframe\">\n",
       "  <thead>\n",
       "    <tr style=\"text-align: right;\">\n",
       "      <th></th>\n",
       "      <th>img</th>\n",
       "      <th>classname</th>\n",
       "    </tr>\n",
       "  </thead>\n",
       "  <tbody>\n",
       "    <tr>\n",
       "      <th>0</th>\n",
       "      <td>img_44733.jpg</td>\n",
       "      <td>c0</td>\n",
       "    </tr>\n",
       "    <tr>\n",
       "      <th>1</th>\n",
       "      <td>img_72999.jpg</td>\n",
       "      <td>c0</td>\n",
       "    </tr>\n",
       "    <tr>\n",
       "      <th>2</th>\n",
       "      <td>img_25094.jpg</td>\n",
       "      <td>c0</td>\n",
       "    </tr>\n",
       "    <tr>\n",
       "      <th>3</th>\n",
       "      <td>img_69092.jpg</td>\n",
       "      <td>c0</td>\n",
       "    </tr>\n",
       "    <tr>\n",
       "      <th>4</th>\n",
       "      <td>img_92629.jpg</td>\n",
       "      <td>c0</td>\n",
       "    </tr>\n",
       "  </tbody>\n",
       "</table>\n",
       "</div>"
      ],
      "text/plain": [
       "             img classname\n",
       "0  img_44733.jpg        c0\n",
       "1  img_72999.jpg        c0\n",
       "2  img_25094.jpg        c0\n",
       "3  img_69092.jpg        c0\n",
       "4  img_92629.jpg        c0"
      ]
     },
     "execution_count": 16,
     "metadata": {},
     "output_type": "execute_result"
    }
   ],
   "source": [
    "label_df.head()"
   ]
  },
  {
   "cell_type": "code",
   "execution_count": 17,
   "metadata": {},
   "outputs": [
    {
     "data": {
      "text/html": [
       "<div>\n",
       "<style scoped>\n",
       "    .dataframe tbody tr th:only-of-type {\n",
       "        vertical-align: middle;\n",
       "    }\n",
       "\n",
       "    .dataframe tbody tr th {\n",
       "        vertical-align: top;\n",
       "    }\n",
       "\n",
       "    .dataframe thead th {\n",
       "        text-align: right;\n",
       "    }\n",
       "</style>\n",
       "<table border=\"1\" class=\"dataframe\">\n",
       "  <thead>\n",
       "    <tr style=\"text-align: right;\">\n",
       "      <th></th>\n",
       "      <th>img</th>\n",
       "    </tr>\n",
       "    <tr>\n",
       "      <th>classname</th>\n",
       "      <th></th>\n",
       "    </tr>\n",
       "  </thead>\n",
       "  <tbody>\n",
       "    <tr>\n",
       "      <th>c8</th>\n",
       "      <td>1911</td>\n",
       "    </tr>\n",
       "    <tr>\n",
       "      <th>c7</th>\n",
       "      <td>2002</td>\n",
       "    </tr>\n",
       "    <tr>\n",
       "      <th>c9</th>\n",
       "      <td>2129</td>\n",
       "    </tr>\n",
       "    <tr>\n",
       "      <th>c1</th>\n",
       "      <td>2267</td>\n",
       "    </tr>\n",
       "    <tr>\n",
       "      <th>c5</th>\n",
       "      <td>2312</td>\n",
       "    </tr>\n",
       "    <tr>\n",
       "      <th>c2</th>\n",
       "      <td>2317</td>\n",
       "    </tr>\n",
       "    <tr>\n",
       "      <th>c6</th>\n",
       "      <td>2325</td>\n",
       "    </tr>\n",
       "    <tr>\n",
       "      <th>c4</th>\n",
       "      <td>2326</td>\n",
       "    </tr>\n",
       "    <tr>\n",
       "      <th>c3</th>\n",
       "      <td>2346</td>\n",
       "    </tr>\n",
       "    <tr>\n",
       "      <th>c0</th>\n",
       "      <td>2489</td>\n",
       "    </tr>\n",
       "  </tbody>\n",
       "</table>\n",
       "</div>"
      ],
      "text/plain": [
       "            img\n",
       "classname      \n",
       "c8         1911\n",
       "c7         2002\n",
       "c9         2129\n",
       "c1         2267\n",
       "c5         2312\n",
       "c2         2317\n",
       "c6         2325\n",
       "c4         2326\n",
       "c3         2346\n",
       "c0         2489"
      ]
     },
     "execution_count": 17,
     "metadata": {},
     "output_type": "execute_result"
    }
   ],
   "source": [
    "label_df.pivot_table(index='classname',aggfunc=len).sort_values('img')"
   ]
  },
  {
   "cell_type": "code",
   "execution_count": 18,
   "metadata": {},
   "outputs": [],
   "source": [
    "tfms=tfms_from_model(arch,sz,aug_tfms=transforms_side_on,max_zoom=1.1)\n",
    "data=ImageClassifierData.from_csv(PATH,'train',f'{PATH}short_list.csv',test_name='test',\n",
    "                                  val_idxs=val_idxs,tfms=tfms,bs=bs)"
   ]
  },
  {
   "cell_type": "code",
   "execution_count": 22,
   "metadata": {},
   "outputs": [
    {
     "data": {
      "text/plain": [
       "['__add__',\n",
       " '__class__',\n",
       " '__delattr__',\n",
       " '__dict__',\n",
       " '__dir__',\n",
       " '__doc__',\n",
       " '__eq__',\n",
       " '__format__',\n",
       " '__ge__',\n",
       " '__getattribute__',\n",
       " '__getitem__',\n",
       " '__gt__',\n",
       " '__hash__',\n",
       " '__init__',\n",
       " '__init_subclass__',\n",
       " '__le__',\n",
       " '__len__',\n",
       " '__lt__',\n",
       " '__module__',\n",
       " '__ne__',\n",
       " '__new__',\n",
       " '__reduce__',\n",
       " '__reduce_ex__',\n",
       " '__repr__',\n",
       " '__setattr__',\n",
       " '__sizeof__',\n",
       " '__str__',\n",
       " '__subclasshook__',\n",
       " '__weakref__',\n",
       " 'c',\n",
       " 'denorm',\n",
       " 'fnames',\n",
       " 'get',\n",
       " 'get_c',\n",
       " 'get_n',\n",
       " 'get_sz',\n",
       " 'get_x',\n",
       " 'get_y',\n",
       " 'is_multi',\n",
       " 'is_reg',\n",
       " 'n',\n",
       " 'path',\n",
       " 'resize_imgs',\n",
       " 'sz',\n",
       " 'transform',\n",
       " 'y']"
      ]
     },
     "execution_count": 22,
     "metadata": {},
     "output_type": "execute_result"
    }
   ],
   "source": [
    "dir(data.test_ds)"
   ]
  },
  {
   "cell_type": "code",
   "execution_count": 29,
   "metadata": {},
   "outputs": [
    {
     "data": {
      "text/plain": [
       "(79726, 1)"
      ]
     },
     "execution_count": 29,
     "metadata": {},
     "output_type": "execute_result"
    }
   ],
   "source": [
    "np.shape(data.test_ds.y)"
   ]
  },
  {
   "cell_type": "code",
   "execution_count": 30,
   "metadata": {},
   "outputs": [],
   "source": [
    "fn=PATH+data.trn_ds.fnames[0]"
   ]
  },
  {
   "cell_type": "code",
   "execution_count": 31,
   "metadata": {},
   "outputs": [
    {
     "data": {
      "text/plain": [
       "'/home/paperspace/data/statefarm/train/img_0.jpg'"
      ]
     },
     "execution_count": 31,
     "metadata": {},
     "output_type": "execute_result"
    }
   ],
   "source": [
    "fn"
   ]
  },
  {
   "cell_type": "code",
   "execution_count": 32,
   "metadata": {},
   "outputs": [
    {
     "data": {
      "image/png": "[encoded data removed]",
      "text/plain": [
       "<PIL.JpegImagePlugin.JpegImageFile image mode=RGB size=640x480 at 0x7F130C212EB8>"
      ]
     },
     "execution_count": 32,
     "metadata": {},
     "output_type": "execute_result"
    }
   ],
   "source": [
    "img=PIL.Image.open(fn);img"
   ]
  },
  {
   "cell_type": "code",
   "execution_count": 33,
   "metadata": {},
   "outputs": [
    {
     "data": {
      "text/plain": [
       "(640, 480)"
      ]
     },
     "execution_count": 33,
     "metadata": {},
     "output_type": "execute_result"
    }
   ],
   "source": [
    "img.size"
   ]
  },
  {
   "cell_type": "code",
   "execution_count": 34,
   "metadata": {},
   "outputs": [],
   "source": [
    "size_d={k:PIL.Image.open(PATH+k).size for k in data.trn_ds.fnames} #dictionary comprehension... study this!\n",
    "#this maps the name of the file to the size of the file"
   ]
  },
  {
   "cell_type": "code",
   "execution_count": 15,
   "metadata": {},
   "outputs": [],
   "source": [
    "row_sz,col_sz=list(zip(*size_d.values()))#zip (study this too!) turns the dictionary into the rows and columns"
   ]
  },
  {
   "cell_type": "code",
   "execution_count": 16,
   "metadata": {},
   "outputs": [],
   "source": [
    "row_sz=np.array(row_sz); col_sz=np.array(col_sz)"
   ]
  },
  {
   "cell_type": "code",
   "execution_count": 64,
   "metadata": {},
   "outputs": [
    {
     "data": {
      "text/plain": [
       "array([640, 640, 640, 640, 640])"
      ]
     },
     "execution_count": 64,
     "metadata": {},
     "output_type": "execute_result"
    }
   ],
   "source": [
    "row_sz[:5]"
   ]
  },
  {
   "cell_type": "code",
   "execution_count": 66,
   "metadata": {},
   "outputs": [
    {
     "data": {
      "text/plain": [
       "(array([    0.,     0.,     0.,     0.,     0., 17940.,     0.,     0.,     0.,     0.]),\n",
       " array([639.5, 639.6, 639.7, 639.8, 639.9, 640. , 640.1, 640.2, 640.3, 640.4, 640.5]),\n",
       " <a list of 10 Patch objects>)"
      ]
     },
     "execution_count": 66,
     "metadata": {},
     "output_type": "execute_result"
    },
    {
     "data": {
      "image/png": "[encoded data removed]",
      "text/plain": [
       "<matplotlib.figure.Figure at 0x7f46f71017f0>"
      ]
     },
     "metadata": {},
     "output_type": "display_data"
    }
   ],
   "source": [
    "plt.hist(row_sz) #all the images are about the right size"
   ]
  },
  {
   "cell_type": "code",
   "execution_count": 67,
   "metadata": {},
   "outputs": [
    {
     "data": {
      "text/plain": [
       "(array([    0.,     0.,     0.,     0.,     0., 17940.,     0.,     0.,     0.,     0.]),\n",
       " array([479.5, 479.6, 479.7, 479.8, 479.9, 480. , 480.1, 480.2, 480.3, 480.4, 480.5]),\n",
       " <a list of 10 Patch objects>)"
      ]
     },
     "execution_count": 67,
     "metadata": {},
     "output_type": "execute_result"
    },
    {
     "data": {
      "image/png": "[encoded data removed]",
      "text/plain": [
       "<matplotlib.figure.Figure at 0x7f46f6ff4518>"
      ]
     },
     "metadata": {},
     "output_type": "display_data"
    }
   ],
   "source": [
    "plt.hist(col_sz)"
   ]
  },
  {
   "cell_type": "code",
   "execution_count": 57,
   "metadata": {},
   "outputs": [
    {
     "data": {
      "text/plain": [
       "(17940, 79726)"
      ]
     },
     "execution_count": 57,
     "metadata": {},
     "output_type": "execute_result"
    }
   ],
   "source": [
    "len(data.trn_ds), len(data.test_ds)"
   ]
  },
  {
   "cell_type": "code",
   "execution_count": 58,
   "metadata": {},
   "outputs": [
    {
     "data": {
      "text/plain": [
       "(10, ['c0', 'c1', 'c2', 'c3', 'c4'])"
      ]
     },
     "execution_count": 58,
     "metadata": {},
     "output_type": "execute_result"
    }
   ],
   "source": [
    "len(data.classes), data.classes[:5]"
   ]
  },
  {
   "cell_type": "code",
   "execution_count": 35,
   "metadata": {},
   "outputs": [],
   "source": [
    "def get_data(sz,bs): #passing a small image size will speed everything up very quickly!\n",
    "    tfms=tfms_from_model(arch,sz,aug_tfms=transforms_side_on,max_zoom=1.1)\n",
    "    data=ImageClassifierData.from_csv(PATH,'train',f'{PATH}short_list.csv',test_name='test',num_workers=4,\n",
    "                                  val_idxs=val_idxs,tfms=tfms,bs=bs)\n",
    "    return data if sz>300 else data.resize(340,'tmp')"
   ]
  },
  {
   "cell_type": "code",
   "execution_count": 36,
   "metadata": {},
   "outputs": [],
   "source": [
    "sz=64"
   ]
  },
  {
   "cell_type": "code",
   "execution_count": 37,
   "metadata": {},
   "outputs": [
    {
     "data": {
      "application/vnd.jupyter.widget-view+json": {
       "model_id": "558e7ca872cb4f698ee2ccbc2cb0d18f",
       "version_major": 2,
       "version_minor": 0
      },
      "text/html": [
       "<p>Failed to display Jupyter Widget of type <code>HBox</code>.</p>\n",
       "<p>\n",
       "  If you're reading this message in the Jupyter Notebook or JupyterLab Notebook, it may mean\n",
       "  that the widgets JavaScript is still loading. If this message persists, it\n",
       "  likely means that the widgets JavaScript library is either not installed or\n",
       "  not enabled. See the <a href=\"https://ipywidgets.readthedocs.io/en/stable/user_install.html\">Jupyter\n",
       "  Widgets Documentation</a> for setup instructions.\n",
       "</p>\n",
       "<p>\n",
       "  If you're reading this message in another frontend (for example, a static\n",
       "  rendering on GitHub or <a href=\"https://nbviewer.jupyter.org/\">NBViewer</a>),\n",
       "  it may mean that your frontend doesn't currently support widgets.\n",
       "</p>\n"
      ],
      "text/plain": [
       "HBox(children=(IntProgress(value=0, max=6), HTML(value='')))"
      ]
     },
     "metadata": {},
     "output_type": "display_data"
    },
    {
     "name": "stdout",
     "output_type": "stream",
     "text": [
      "                                                      \n"
     ]
    }
   ],
   "source": [
    "data=get_data(sz,bs)"
   ]
  },
  {
   "cell_type": "code",
   "execution_count": 38,
   "metadata": {},
   "outputs": [
    {
     "data": {
      "text/plain": [
       "(79726,)"
      ]
     },
     "execution_count": 38,
     "metadata": {},
     "output_type": "execute_result"
    }
   ],
   "source": [
    "np.shape(data.test_ds.fnames)"
   ]
  },
  {
   "cell_type": "code",
   "execution_count": 39,
   "metadata": {},
   "outputs": [
    {
     "name": "stdout",
     "output_type": "stream",
     "text": [
      "100%|██████████| 598/598 [00:14<00:00, 42.04it/s]\n",
      "100%|██████████| 150/150 [00:03<00:00, 42.66it/s]\n",
      "100%|██████████| 2658/2658 [01:01<00:00, 43.18it/s]\n"
     ]
    }
   ],
   "source": [
    "learn=ConvLearner.pretrained(arch,data,precompute=True)"
   ]
  },
  {
   "cell_type": "code",
   "execution_count": 76,
   "metadata": {},
   "outputs": [
    {
     "data": {
      "application/vnd.jupyter.widget-view+json": {
       "model_id": "cdc2c6a7bd6949a9bf96b0843440896c",
       "version_major": 2,
       "version_minor": 0
      },
      "text/html": [
       "<p>Failed to display Jupyter Widget of type <code>HBox</code>.</p>\n",
       "<p>\n",
       "  If you're reading this message in the Jupyter Notebook or JupyterLab Notebook, it may mean\n",
       "  that the widgets JavaScript is still loading. If this message persists, it\n",
       "  likely means that the widgets JavaScript library is either not installed or\n",
       "  not enabled. See the <a href=\"https://ipywidgets.readthedocs.io/en/stable/user_install.html\">Jupyter\n",
       "  Widgets Documentation</a> for setup instructions.\n",
       "</p>\n",
       "<p>\n",
       "  If you're reading this message in another frontend (for example, a static\n",
       "  rendering on GitHub or <a href=\"https://nbviewer.jupyter.org/\">NBViewer</a>),\n",
       "  it may mean that your frontend doesn't currently support widgets.\n",
       "</p>\n"
      ],
      "text/plain": [
       "HBox(children=(IntProgress(value=0, description='Epoch', max=1), HTML(value='')))"
      ]
     },
     "metadata": {},
     "output_type": "display_data"
    },
    {
     "name": "stdout",
     "output_type": "stream",
     "text": [
      " 81%|████████  | 251/310 [00:04<00:00, 61.47it/s, loss=8.65]\n",
      "                                                            \r"
     ]
    }
   ],
   "source": [
    "lrf=learn.lr_find()"
   ]
  },
  {
   "cell_type": "code",
   "execution_count": 77,
   "metadata": {},
   "outputs": [
    {
     "data": {
      "image/png": "[encoded data removed]",
      "text/plain": [
       "<matplotlib.figure.Figure at 0x7f46f656f1d0>"
      ]
     },
     "metadata": {},
     "output_type": "display_data"
    }
   ],
   "source": [
    "learn.sched.plot()"
   ]
  },
  {
   "cell_type": "code",
   "execution_count": 40,
   "metadata": {},
   "outputs": [
    {
     "data": {
      "application/vnd.jupyter.widget-view+json": {
       "model_id": "cc8e8760c8cc41c197e295ca9b471e76",
       "version_major": 2,
       "version_minor": 0
      },
      "text/html": [
       "<p>Failed to display Jupyter Widget of type <code>HBox</code>.</p>\n",
       "<p>\n",
       "  If you're reading this message in the Jupyter Notebook or JupyterLab Notebook, it may mean\n",
       "  that the widgets JavaScript is still loading. If this message persists, it\n",
       "  likely means that the widgets JavaScript library is either not installed or\n",
       "  not enabled. See the <a href=\"https://ipywidgets.readthedocs.io/en/stable/user_install.html\">Jupyter\n",
       "  Widgets Documentation</a> for setup instructions.\n",
       "</p>\n",
       "<p>\n",
       "  If you're reading this message in another frontend (for example, a static\n",
       "  rendering on GitHub or <a href=\"https://nbviewer.jupyter.org/\">NBViewer</a>),\n",
       "  it may mean that your frontend doesn't currently support widgets.\n",
       "</p>\n"
      ],
      "text/plain": [
       "HBox(children=(IntProgress(value=0, description='Epoch', max=5), HTML(value='')))"
      ]
     },
     "metadata": {},
     "output_type": "display_data"
    },
    {
     "name": "stdout",
     "output_type": "stream",
     "text": [
      "epoch:   0, train_loss: 0.845797, val_loss: 0.461301, accuracy: 0.867302\n",
      "epoch:   1, train_loss: 0.664830, val_loss: 0.319970, accuracy: 0.905968\n",
      "epoch:   2, train_loss: 0.509600, val_loss: 0.258504, accuracy: 0.929492\n",
      "epoch:   3, train_loss: 0.460944, val_loss: 0.203425, accuracy: 0.945937\n",
      "epoch:   4, train_loss: 0.418356, val_loss: 0.193689, accuracy: 0.946540\n",
      "\n"
     ]
    }
   ],
   "source": [
    "learn.fit(1e-2,5)"
   ]
  },
  {
   "cell_type": "code",
   "execution_count": 41,
   "metadata": {},
   "outputs": [],
   "source": [
    "learn.save('128_pre')"
   ]
  },
  {
   "cell_type": "code",
   "execution_count": 42,
   "metadata": {},
   "outputs": [
    {
     "data": {
      "text/plain": [
       "['TTA',\n",
       " '__class__',\n",
       " '__delattr__',\n",
       " '__dict__',\n",
       " '__dir__',\n",
       " '__doc__',\n",
       " '__eq__',\n",
       " '__format__',\n",
       " '__ge__',\n",
       " '__getattribute__',\n",
       " '__getitem__',\n",
       " '__gt__',\n",
       " '__hash__',\n",
       " '__init__',\n",
       " '__init_subclass__',\n",
       " '__le__',\n",
       " '__lt__',\n",
       " '__module__',\n",
       " '__ne__',\n",
       " '__new__',\n",
       " '__reduce__',\n",
       " '__reduce_ex__',\n",
       " '__repr__',\n",
       " '__setattr__',\n",
       " '__sizeof__',\n",
       " '__str__',\n",
       " '__subclasshook__',\n",
       " '__weakref__',\n",
       " 'activations',\n",
       " 'bn_freeze',\n",
       " 'children',\n",
       " 'clip',\n",
       " 'create_empty_bcolz',\n",
       " 'crit',\n",
       " 'data',\n",
       " 'data_',\n",
       " 'fc_data',\n",
       " 'fit',\n",
       " 'fit_gen',\n",
       " 'freeze',\n",
       " 'freeze_to',\n",
       " 'from_model_data',\n",
       " 'get_activations',\n",
       " 'get_cycle_end',\n",
       " 'get_layer_groups',\n",
       " 'get_layer_opt',\n",
       " 'get_model_path',\n",
       " 'load',\n",
       " 'load_cycle',\n",
       " 'lr_find',\n",
       " 'metrics',\n",
       " 'model',\n",
       " 'models',\n",
       " 'models_path',\n",
       " 'opt_fn',\n",
       " 'precompute',\n",
       " 'predict',\n",
       " 'predict_array',\n",
       " 'predict_dl',\n",
       " 'predict_with_targs',\n",
       " 'pretrained',\n",
       " 'reg_fn',\n",
       " 'save',\n",
       " 'save_cycle',\n",
       " 'save_fc1',\n",
       " 'sched',\n",
       " 'set_bn_freeze',\n",
       " 'set_data',\n",
       " 'summary',\n",
       " 'tmp_path',\n",
       " 'unfreeze',\n",
       " 'warm_up',\n",
       " 'wd_sched']"
      ]
     },
     "execution_count": 42,
     "metadata": {},
     "output_type": "execute_result"
    }
   ],
   "source": [
    "dir(learn)"
   ]
  },
  {
   "cell_type": "code",
   "execution_count": 46,
   "metadata": {},
   "outputs": [
    {
     "name": "stdout",
     "output_type": "stream",
     "text": [
      "                                             \r"
     ]
    }
   ],
   "source": [
    "log_preds,y=learn.TTA(is_test=True)\n",
    "probs=np.exp(log_preds)"
   ]
  },
  {
   "cell_type": "code",
   "execution_count": 47,
   "metadata": {},
   "outputs": [
    {
     "data": {
      "text/plain": [
       "(79726, 1)"
      ]
     },
     "execution_count": 47,
     "metadata": {},
     "output_type": "execute_result"
    }
   ],
   "source": [
    "np.shape(y)"
   ]
  },
  {
   "cell_type": "code",
   "execution_count": 48,
   "metadata": {},
   "outputs": [],
   "source": [
    "#everything looks like its running fine, so lets set sz to 128\n",
    "bs=20\n",
    "sz=128\n"
   ]
  },
  {
   "cell_type": "code",
   "execution_count": 49,
   "metadata": {},
   "outputs": [
    {
     "data": {
      "application/vnd.jupyter.widget-view+json": {
       "model_id": "ec8edce6d0684cffa2d09df144363f97",
       "version_major": 2,
       "version_minor": 0
      },
      "text/html": [
       "<p>Failed to display Jupyter Widget of type <code>HBox</code>.</p>\n",
       "<p>\n",
       "  If you're reading this message in the Jupyter Notebook or JupyterLab Notebook, it may mean\n",
       "  that the widgets JavaScript is still loading. If this message persists, it\n",
       "  likely means that the widgets JavaScript library is either not installed or\n",
       "  not enabled. See the <a href=\"https://ipywidgets.readthedocs.io/en/stable/user_install.html\">Jupyter\n",
       "  Widgets Documentation</a> for setup instructions.\n",
       "</p>\n",
       "<p>\n",
       "  If you're reading this message in another frontend (for example, a static\n",
       "  rendering on GitHub or <a href=\"https://nbviewer.jupyter.org/\">NBViewer</a>),\n",
       "  it may mean that your frontend doesn't currently support widgets.\n",
       "</p>\n"
      ],
      "text/plain": [
       "HBox(children=(IntProgress(value=0, max=6), HTML(value='')))"
      ]
     },
     "metadata": {},
     "output_type": "display_data"
    },
    {
     "name": "stdout",
     "output_type": "stream",
     "text": [
      "\n"
     ]
    }
   ],
   "source": [
    "learn.set_data(get_data(sz,bs)) # set training image size to larger (299)"
   ]
  },
  {
   "cell_type": "code",
   "execution_count": 30,
   "metadata": {},
   "outputs": [],
   "source": [
    "#learn.precompute=False #setting to false so data augmentation works"
   ]
  },
  {
   "cell_type": "code",
   "execution_count": 50,
   "metadata": {},
   "outputs": [
    {
     "data": {
      "application/vnd.jupyter.widget-view+json": {
       "model_id": "ba22d7c113614a848aa81b23f166424c",
       "version_major": 2,
       "version_minor": 0
      },
      "text/html": [
       "<p>Failed to display Jupyter Widget of type <code>HBox</code>.</p>\n",
       "<p>\n",
       "  If you're reading this message in the Jupyter Notebook or JupyterLab Notebook, it may mean\n",
       "  that the widgets JavaScript is still loading. If this message persists, it\n",
       "  likely means that the widgets JavaScript library is either not installed or\n",
       "  not enabled. See the <a href=\"https://ipywidgets.readthedocs.io/en/stable/user_install.html\">Jupyter\n",
       "  Widgets Documentation</a> for setup instructions.\n",
       "</p>\n",
       "<p>\n",
       "  If you're reading this message in another frontend (for example, a static\n",
       "  rendering on GitHub or <a href=\"https://nbviewer.jupyter.org/\">NBViewer</a>),\n",
       "  it may mean that your frontend doesn't currently support widgets.\n",
       "</p>\n"
      ],
      "text/plain": [
       "HBox(children=(IntProgress(value=0, description='Epoch', max=5), HTML(value='')))"
      ]
     },
     "metadata": {},
     "output_type": "display_data"
    },
    {
     "name": "stdout",
     "output_type": "stream",
     "text": [
      "epoch:   0, train_loss: 0.364508, val_loss: 0.158756, accuracy: 0.957714\n",
      "epoch:   1, train_loss: 0.297392, val_loss: 0.173501, accuracy: 0.955937\n",
      "epoch:   2, train_loss: 0.339476, val_loss: 0.147388, accuracy: 0.962571\n",
      "epoch:   3, train_loss: 0.300698, val_loss: 0.156409, accuracy: 0.961048\n",
      "epoch:   4, train_loss: 0.296625, val_loss: 0.143611, accuracy: 0.963714\n",
      "\n"
     ]
    }
   ],
   "source": [
    "learn.fit(1e-2,5,cycle_len=1)"
   ]
  },
  {
   "cell_type": "code",
   "execution_count": 51,
   "metadata": {},
   "outputs": [],
   "source": [
    "learn.save('128_pre')"
   ]
  },
  {
   "cell_type": "code",
   "execution_count": 17,
   "metadata": {},
   "outputs": [],
   "source": [
    "learn.load('128_pre')"
   ]
  },
  {
   "cell_type": "code",
   "execution_count": 21,
   "metadata": {},
   "outputs": [],
   "source": [
    "?? learn"
   ]
  },
  {
   "cell_type": "code",
   "execution_count": 52,
   "metadata": {},
   "outputs": [
    {
     "name": "stdout",
     "output_type": "stream",
     "text": [
      "                                             \r"
     ]
    }
   ],
   "source": [
    "log_preds,y=learn.TTA(is_test=True)\n",
    "probs=np.exp(log_preds)\n"
   ]
  },
  {
   "cell_type": "code",
   "execution_count": 53,
   "metadata": {},
   "outputs": [],
   "source": [
    "df=pd.DataFrame(probs[0,:,:]) "
   ]
  },
  {
   "cell_type": "code",
   "execution_count": 54,
   "metadata": {},
   "outputs": [],
   "source": [
    "df.columns=data.classes"
   ]
  },
  {
   "cell_type": "code",
   "execution_count": 33,
   "metadata": {},
   "outputs": [
    {
     "data": {
      "text/plain": [
       "(79726,)"
      ]
     },
     "execution_count": 33,
     "metadata": {},
     "output_type": "execute_result"
    }
   ],
   "source": [
    "np.shape(data.test_ds.fnames)"
   ]
  },
  {
   "cell_type": "code",
   "execution_count": 55,
   "metadata": {},
   "outputs": [],
   "source": [
    "df.insert(0, 'img', [o[5:] for o in data.test_ds.fnames]) "
   ]
  },
  {
   "cell_type": "code",
   "execution_count": 57,
   "metadata": {},
   "outputs": [
    {
     "data": {
      "text/plain": [
       "'/home/paperspace/data/statefarm/'"
      ]
     },
     "execution_count": 57,
     "metadata": {},
     "output_type": "execute_result"
    }
   ],
   "source": [
    "PATH"
   ]
  },
  {
   "cell_type": "code",
   "execution_count": 60,
   "metadata": {},
   "outputs": [],
   "source": [
    "from IPython.display import FileLink"
   ]
  },
  {
   "cell_type": "code",
   "execution_count": 68,
   "metadata": {},
   "outputs": [
    {
     "name": "stdout",
     "output_type": "stream",
     "text": [
      "/home/paperspace/fastai/courses/dl1\n"
     ]
    },
    {
     "data": {
      "text/html": [
       "<a href='statefarm_submission4.csv' target='_blank'>statefarm_submission4.csv</a><br>"
      ],
      "text/plain": [
       "/home/paperspace/fastai/courses/dl1/statefarm_submission4.csv"
      ]
     },
     "execution_count": 68,
     "metadata": {},
     "output_type": "execute_result"
    }
   ],
   "source": [
    "%cd /home/paperspace/fastai/courses/dl1/\n",
    "submission_file_name = 'statefarm_submission4.csv'\n",
    "df.to_csv(submission_file_name,index=False)\n",
    "FileLink(submission_file_name)"
   ]
  },
  {
   "cell_type": "code",
   "execution_count": 31,
   "metadata": {},
   "outputs": [
    {
     "data": {
      "text/plain": [
       "['test/img_37990.jpg',\n",
       " 'test/img_79092.jpg',\n",
       " 'test/img_55859.jpg',\n",
       " 'test/img_92870.jpg',\n",
       " 'test/img_20844.jpg',\n",
       " 'test/img_46378.jpg',\n",
       " 'test/img_43222.jpg',\n",
       " 'test/img_41999.jpg',\n",
       " 'test/img_44458.jpg',\n",
       " 'test/img_3738.jpg',\n",
       " 'test/img_95897.jpg',\n",
       " 'test/img_93761.jpg',\n",
       " 'test/img_92294.jpg',\n",
       " 'test/img_70963.jpg',\n",
       " 'test/img_59155.jpg',\n",
       " 'test/img_90544.jpg',\n",
       " 'test/img_67101.jpg',\n",
       " 'test/img_89867.jpg',\n",
       " 'test/img_76790.jpg',\n",
       " 'test/img_77318.jpg',\n",
       " 'test/img_56520.jpg',\n",
       " 'test/img_51008.jpg',\n",
       " 'test/img_1372.jpg',\n",
       " 'test/img_55364.jpg',\n",
       " 'test/img_26345.jpg',\n",
       " 'test/img_80702.jpg',\n",
       " 'test/img_45651.jpg',\n",
       " 'test/img_64322.jpg',\n",
       " 'test/img_65746.jpg',\n",
       " 'test/img_17468.jpg',\n",
       " 'test/img_85117.jpg',\n",
       " 'test/img_23098.jpg',\n",
       " 'test/img_98108.jpg',\n",
       " 'test/img_79914.jpg',\n",
       " 'test/img_20006.jpg',\n",
       " 'test/img_85875.jpg',\n",
       " 'test/img_90406.jpg',\n",
       " 'test/img_68451.jpg',\n",
       " 'test/img_96662.jpg',\n",
       " 'test/img_48122.jpg',\n",
       " 'test/img_61470.jpg',\n",
       " 'test/img_69285.jpg',\n",
       " 'test/img_77452.jpg',\n",
       " 'test/img_90842.jpg',\n",
       " 'test/img_82813.jpg',\n",
       " 'test/img_27427.jpg',\n",
       " 'test/img_12879.jpg',\n",
       " 'test/img_92982.jpg',\n",
       " 'test/img_82725.jpg',\n",
       " 'test/img_1743.jpg',\n",
       " 'test/img_41122.jpg',\n",
       " 'test/img_76470.jpg',\n",
       " 'test/img_72424.jpg',\n",
       " 'test/img_78957.jpg',\n",
       " 'test/img_12921.jpg',\n",
       " 'test/img_81737.jpg',\n",
       " 'test/img_42880.jpg',\n",
       " 'test/img_54477.jpg',\n",
       " 'test/img_80069.jpg',\n",
       " 'test/img_85500.jpg',\n",
       " 'test/img_49550.jpg',\n",
       " 'test/img_18124.jpg',\n",
       " 'test/img_19142.jpg',\n",
       " 'test/img_8083.jpg',\n",
       " 'test/img_44307.jpg',\n",
       " 'test/img_100980.jpg',\n",
       " 'test/img_96392.jpg',\n",
       " 'test/img_68774.jpg',\n",
       " 'test/img_92451.jpg',\n",
       " 'test/img_19448.jpg',\n",
       " 'test/img_6015.jpg',\n",
       " 'test/img_13990.jpg',\n",
       " 'test/img_73742.jpg',\n",
       " 'test/img_78814.jpg',\n",
       " 'test/img_12050.jpg',\n",
       " 'test/img_46184.jpg',\n",
       " 'test/img_62112.jpg',\n",
       " 'test/img_101249.jpg',\n",
       " 'test/img_37848.jpg',\n",
       " 'test/img_82879.jpg',\n",
       " 'test/img_83634.jpg',\n",
       " 'test/img_23748.jpg',\n",
       " 'test/img_63566.jpg',\n",
       " 'test/img_693.jpg',\n",
       " 'test/img_17849.jpg',\n",
       " 'test/img_69586.jpg',\n",
       " 'test/img_77148.jpg',\n",
       " 'test/img_48126.jpg',\n",
       " 'test/img_44272.jpg',\n",
       " 'test/img_66191.jpg',\n",
       " 'test/img_58250.jpg',\n",
       " 'test/img_32248.jpg',\n",
       " 'test/img_3341.jpg',\n",
       " 'test/img_8040.jpg',\n",
       " 'test/img_18513.jpg',\n",
       " 'test/img_18874.jpg',\n",
       " 'test/img_25579.jpg',\n",
       " 'test/img_17204.jpg',\n",
       " 'test/img_75573.jpg',\n",
       " 'test/img_46463.jpg',\n",
       " 'test/img_38083.jpg',\n",
       " 'test/img_23339.jpg',\n",
       " 'test/img_96672.jpg',\n",
       " 'test/img_31927.jpg',\n",
       " 'test/img_27144.jpg',\n",
       " 'test/img_44236.jpg',\n",
       " 'test/img_91736.jpg',\n",
       " 'test/img_86025.jpg',\n",
       " 'test/img_13075.jpg',\n",
       " 'test/img_17751.jpg',\n",
       " 'test/img_61104.jpg',\n",
       " 'test/img_1392.jpg',\n",
       " 'test/img_85410.jpg',\n",
       " 'test/img_88736.jpg',\n",
       " 'test/img_26269.jpg',\n",
       " 'test/img_23791.jpg',\n",
       " 'test/img_16553.jpg',\n",
       " 'test/img_63549.jpg',\n",
       " 'test/img_18274.jpg',\n",
       " 'test/img_99918.jpg',\n",
       " 'test/img_92995.jpg',\n",
       " 'test/img_25304.jpg',\n",
       " 'test/img_79163.jpg',\n",
       " 'test/img_65631.jpg',\n",
       " 'test/img_88050.jpg',\n",
       " 'test/img_39169.jpg',\n",
       " 'test/img_44928.jpg',\n",
       " 'test/img_93546.jpg',\n",
       " 'test/img_86812.jpg',\n",
       " 'test/img_33208.jpg',\n",
       " 'test/img_26473.jpg',\n",
       " 'test/img_36708.jpg',\n",
       " 'test/img_44993.jpg',\n",
       " 'test/img_35254.jpg',\n",
       " 'test/img_15603.jpg',\n",
       " 'test/img_257.jpg',\n",
       " 'test/img_52645.jpg',\n",
       " 'test/img_53076.jpg',\n",
       " 'test/img_81811.jpg',\n",
       " 'test/img_39011.jpg',\n",
       " 'test/img_94152.jpg',\n",
       " 'test/img_9752.jpg',\n",
       " 'test/img_95115.jpg',\n",
       " 'test/img_37836.jpg',\n",
       " 'test/img_31256.jpg',\n",
       " 'test/img_70579.jpg',\n",
       " 'test/img_53082.jpg',\n",
       " 'test/img_90539.jpg',\n",
       " 'test/img_37816.jpg',\n",
       " 'test/img_19711.jpg',\n",
       " 'test/img_88940.jpg',\n",
       " 'test/img_88366.jpg',\n",
       " 'test/img_17426.jpg',\n",
       " 'test/img_97297.jpg',\n",
       " 'test/img_71592.jpg',\n",
       " 'test/img_40025.jpg',\n",
       " 'test/img_94763.jpg',\n",
       " 'test/img_76884.jpg',\n",
       " 'test/img_77544.jpg',\n",
       " 'test/img_73620.jpg',\n",
       " 'test/img_8475.jpg',\n",
       " 'test/img_21233.jpg',\n",
       " 'test/img_16855.jpg',\n",
       " 'test/img_37233.jpg',\n",
       " 'test/img_101098.jpg',\n",
       " 'test/img_40268.jpg',\n",
       " 'test/img_32111.jpg',\n",
       " 'test/img_88444.jpg',\n",
       " 'test/img_8419.jpg',\n",
       " 'test/img_67114.jpg',\n",
       " 'test/img_62086.jpg',\n",
       " 'test/img_58552.jpg',\n",
       " 'test/img_81967.jpg',\n",
       " 'test/img_18328.jpg',\n",
       " 'test/img_87127.jpg',\n",
       " 'test/img_3069.jpg',\n",
       " 'test/img_46806.jpg',\n",
       " 'test/img_38138.jpg',\n",
       " 'test/img_30066.jpg',\n",
       " 'test/img_57313.jpg',\n",
       " 'test/img_2438.jpg',\n",
       " 'test/img_100381.jpg',\n",
       " 'test/img_70608.jpg',\n",
       " 'test/img_56619.jpg',\n",
       " 'test/img_3500.jpg',\n",
       " 'test/img_51861.jpg',\n",
       " 'test/img_47387.jpg',\n",
       " 'test/img_35413.jpg',\n",
       " 'test/img_41397.jpg',\n",
       " 'test/img_24833.jpg',\n",
       " 'test/img_78878.jpg',\n",
       " 'test/img_22332.jpg',\n",
       " 'test/img_99033.jpg',\n",
       " 'test/img_45920.jpg',\n",
       " 'test/img_71993.jpg',\n",
       " 'test/img_38580.jpg',\n",
       " 'test/img_48578.jpg',\n",
       " 'test/img_77322.jpg',\n",
       " 'test/img_55277.jpg',\n",
       " 'test/img_2489.jpg',\n",
       " 'test/img_11876.jpg',\n",
       " 'test/img_53102.jpg',\n",
       " 'test/img_53903.jpg',\n",
       " 'test/img_9513.jpg',\n",
       " 'test/img_46434.jpg',\n",
       " 'test/img_82223.jpg',\n",
       " 'test/img_19277.jpg',\n",
       " 'test/img_91126.jpg',\n",
       " 'test/img_59180.jpg',\n",
       " 'test/img_43407.jpg',\n",
       " 'test/img_49449.jpg',\n",
       " 'test/img_80563.jpg',\n",
       " 'test/img_18326.jpg',\n",
       " 'test/img_35008.jpg',\n",
       " 'test/img_7662.jpg',\n",
       " 'test/img_16425.jpg',\n",
       " 'test/img_98166.jpg',\n",
       " 'test/img_80509.jpg',\n",
       " 'test/img_31683.jpg',\n",
       " 'test/img_75527.jpg',\n",
       " 'test/img_80515.jpg',\n",
       " 'test/img_55913.jpg',\n",
       " 'test/img_1963.jpg',\n",
       " 'test/img_31651.jpg',\n",
       " 'test/img_36613.jpg',\n",
       " 'test/img_99612.jpg',\n",
       " 'test/img_25352.jpg',\n",
       " 'test/img_33336.jpg',\n",
       " 'test/img_19858.jpg',\n",
       " 'test/img_63881.jpg',\n",
       " 'test/img_59969.jpg',\n",
       " 'test/img_1285.jpg',\n",
       " 'test/img_35882.jpg',\n",
       " 'test/img_98730.jpg',\n",
       " 'test/img_64815.jpg',\n",
       " 'test/img_87243.jpg',\n",
       " 'test/img_60699.jpg',\n",
       " 'test/img_85558.jpg',\n",
       " 'test/img_26234.jpg',\n",
       " 'test/img_71450.jpg',\n",
       " 'test/img_40584.jpg',\n",
       " 'test/img_37389.jpg',\n",
       " 'test/img_24188.jpg',\n",
       " 'test/img_10403.jpg',\n",
       " 'test/img_8809.jpg',\n",
       " 'test/img_88088.jpg',\n",
       " 'test/img_11780.jpg',\n",
       " 'test/img_37524.jpg',\n",
       " 'test/img_79916.jpg',\n",
       " 'test/img_66054.jpg',\n",
       " 'test/img_38947.jpg',\n",
       " 'test/img_100035.jpg',\n",
       " 'test/img_2605.jpg',\n",
       " 'test/img_78365.jpg',\n",
       " 'test/img_6408.jpg',\n",
       " 'test/img_46349.jpg',\n",
       " 'test/img_59389.jpg',\n",
       " 'test/img_71696.jpg',\n",
       " 'test/img_36952.jpg',\n",
       " 'test/img_64549.jpg',\n",
       " 'test/img_84128.jpg',\n",
       " 'test/img_37628.jpg',\n",
       " 'test/img_39111.jpg',\n",
       " 'test/img_54899.jpg',\n",
       " 'test/img_83265.jpg',\n",
       " 'test/img_66551.jpg',\n",
       " 'test/img_27162.jpg',\n",
       " 'test/img_41791.jpg',\n",
       " 'test/img_14464.jpg',\n",
       " 'test/img_58434.jpg',\n",
       " 'test/img_142.jpg',\n",
       " 'test/img_92072.jpg',\n",
       " 'test/img_20273.jpg',\n",
       " 'test/img_49312.jpg',\n",
       " 'test/img_18107.jpg',\n",
       " 'test/img_43823.jpg',\n",
       " 'test/img_78391.jpg',\n",
       " 'test/img_43675.jpg',\n",
       " 'test/img_22777.jpg',\n",
       " 'test/img_53695.jpg',\n",
       " 'test/img_48273.jpg',\n",
       " 'test/img_88111.jpg',\n",
       " 'test/img_36770.jpg',\n",
       " 'test/img_98339.jpg',\n",
       " 'test/img_14706.jpg',\n",
       " 'test/img_45770.jpg',\n",
       " 'test/img_57885.jpg',\n",
       " 'test/img_36448.jpg',\n",
       " 'test/img_21243.jpg',\n",
       " 'test/img_19486.jpg',\n",
       " 'test/img_76946.jpg',\n",
       " 'test/img_100651.jpg',\n",
       " 'test/img_21993.jpg',\n",
       " 'test/img_89532.jpg',\n",
       " 'test/img_12306.jpg',\n",
       " 'test/img_88964.jpg',\n",
       " 'test/img_67641.jpg',\n",
       " 'test/img_72230.jpg',\n",
       " 'test/img_28499.jpg',\n",
       " 'test/img_47703.jpg',\n",
       " 'test/img_45646.jpg',\n",
       " 'test/img_74423.jpg',\n",
       " 'test/img_86764.jpg',\n",
       " 'test/img_17492.jpg',\n",
       " 'test/img_95692.jpg',\n",
       " 'test/img_41796.jpg',\n",
       " 'test/img_26022.jpg',\n",
       " 'test/img_49166.jpg',\n",
       " 'test/img_70146.jpg',\n",
       " 'test/img_4655.jpg',\n",
       " 'test/img_215.jpg',\n",
       " 'test/img_15345.jpg',\n",
       " 'test/img_4582.jpg',\n",
       " 'test/img_49376.jpg',\n",
       " 'test/img_23716.jpg',\n",
       " 'test/img_89244.jpg',\n",
       " 'test/img_47330.jpg',\n",
       " 'test/img_73642.jpg',\n",
       " 'test/img_18983.jpg',\n",
       " 'test/img_65881.jpg',\n",
       " 'test/img_101946.jpg',\n",
       " 'test/img_53086.jpg',\n",
       " 'test/img_2581.jpg',\n",
       " 'test/img_37375.jpg',\n",
       " 'test/img_80827.jpg',\n",
       " 'test/img_46586.jpg',\n",
       " 'test/img_38414.jpg',\n",
       " 'test/img_46659.jpg',\n",
       " 'test/img_89534.jpg',\n",
       " 'test/img_38343.jpg',\n",
       " 'test/img_86788.jpg',\n",
       " 'test/img_33738.jpg',\n",
       " 'test/img_79424.jpg',\n",
       " 'test/img_29683.jpg',\n",
       " 'test/img_62403.jpg',\n",
       " 'test/img_82080.jpg',\n",
       " 'test/img_79184.jpg',\n",
       " 'test/img_25636.jpg',\n",
       " 'test/img_29764.jpg',\n",
       " 'test/img_28261.jpg',\n",
       " 'test/img_89602.jpg',\n",
       " 'test/img_41040.jpg',\n",
       " 'test/img_32124.jpg',\n",
       " 'test/img_26624.jpg',\n",
       " 'test/img_7036.jpg',\n",
       " 'test/img_50334.jpg',\n",
       " 'test/img_78810.jpg',\n",
       " 'test/img_79022.jpg',\n",
       " 'test/img_75050.jpg',\n",
       " 'test/img_75322.jpg',\n",
       " 'test/img_32222.jpg',\n",
       " 'test/img_101111.jpg',\n",
       " 'test/img_78706.jpg',\n",
       " 'test/img_13225.jpg',\n",
       " 'test/img_35406.jpg',\n",
       " 'test/img_100535.jpg',\n",
       " 'test/img_101352.jpg',\n",
       " 'test/img_59307.jpg',\n",
       " 'test/img_47476.jpg',\n",
       " 'test/img_1576.jpg',\n",
       " 'test/img_58485.jpg',\n",
       " 'test/img_95202.jpg',\n",
       " 'test/img_55888.jpg',\n",
       " 'test/img_60152.jpg',\n",
       " 'test/img_19468.jpg',\n",
       " 'test/img_55056.jpg',\n",
       " 'test/img_84787.jpg',\n",
       " 'test/img_94162.jpg',\n",
       " 'test/img_80542.jpg',\n",
       " 'test/img_32582.jpg',\n",
       " 'test/img_36052.jpg',\n",
       " 'test/img_96852.jpg',\n",
       " 'test/img_77810.jpg',\n",
       " 'test/img_69512.jpg',\n",
       " 'test/img_31741.jpg',\n",
       " 'test/img_28903.jpg',\n",
       " 'test/img_13817.jpg',\n",
       " 'test/img_62893.jpg',\n",
       " 'test/img_53224.jpg',\n",
       " 'test/img_82354.jpg',\n",
       " 'test/img_14282.jpg',\n",
       " 'test/img_89873.jpg',\n",
       " 'test/img_46038.jpg',\n",
       " 'test/img_25243.jpg',\n",
       " 'test/img_39417.jpg',\n",
       " 'test/img_63461.jpg',\n",
       " 'test/img_80277.jpg',\n",
       " 'test/img_46522.jpg',\n",
       " 'test/img_19671.jpg',\n",
       " 'test/img_16475.jpg',\n",
       " 'test/img_2603.jpg',\n",
       " 'test/img_65645.jpg',\n",
       " 'test/img_54427.jpg',\n",
       " 'test/img_78632.jpg',\n",
       " 'test/img_28895.jpg',\n",
       " 'test/img_983.jpg',\n",
       " 'test/img_6944.jpg',\n",
       " 'test/img_13346.jpg',\n",
       " 'test/img_52888.jpg',\n",
       " 'test/img_72523.jpg',\n",
       " 'test/img_66846.jpg',\n",
       " 'test/img_54215.jpg',\n",
       " 'test/img_10493.jpg',\n",
       " 'test/img_49024.jpg',\n",
       " 'test/img_65385.jpg',\n",
       " 'test/img_12955.jpg',\n",
       " 'test/img_81808.jpg',\n",
       " 'test/img_17482.jpg',\n",
       " 'test/img_79854.jpg',\n",
       " 'test/img_65048.jpg',\n",
       " 'test/img_39893.jpg',\n",
       " 'test/img_49242.jpg',\n",
       " 'test/img_91026.jpg',\n",
       " 'test/img_97333.jpg',\n",
       " 'test/img_42247.jpg',\n",
       " 'test/img_7163.jpg',\n",
       " 'test/img_3558.jpg',\n",
       " 'test/img_87385.jpg',\n",
       " 'test/img_20645.jpg',\n",
       " 'test/img_13731.jpg',\n",
       " 'test/img_92337.jpg',\n",
       " 'test/img_8842.jpg',\n",
       " 'test/img_34072.jpg',\n",
       " 'test/img_285.jpg',\n",
       " 'test/img_68815.jpg',\n",
       " 'test/img_29661.jpg',\n",
       " 'test/img_72273.jpg',\n",
       " 'test/img_84900.jpg',\n",
       " 'test/img_33830.jpg',\n",
       " 'test/img_48331.jpg',\n",
       " 'test/img_38598.jpg',\n",
       " 'test/img_37399.jpg',\n",
       " 'test/img_37088.jpg',\n",
       " 'test/img_55347.jpg',\n",
       " 'test/img_9935.jpg',\n",
       " 'test/img_85895.jpg',\n",
       " 'test/img_65099.jpg',\n",
       " 'test/img_63837.jpg',\n",
       " 'test/img_85818.jpg',\n",
       " 'test/img_16868.jpg',\n",
       " 'test/img_33043.jpg',\n",
       " 'test/img_31365.jpg',\n",
       " 'test/img_41926.jpg',\n",
       " 'test/img_3154.jpg',\n",
       " 'test/img_41142.jpg',\n",
       " 'test/img_53998.jpg',\n",
       " 'test/img_14220.jpg',\n",
       " 'test/img_23101.jpg',\n",
       " 'test/img_81796.jpg',\n",
       " 'test/img_47314.jpg',\n",
       " 'test/img_18787.jpg',\n",
       " 'test/img_74733.jpg',\n",
       " 'test/img_2980.jpg',\n",
       " 'test/img_29939.jpg',\n",
       " 'test/img_32908.jpg',\n",
       " 'test/img_97066.jpg',\n",
       " 'test/img_18041.jpg',\n",
       " 'test/img_81198.jpg',\n",
       " 'test/img_48651.jpg',\n",
       " 'test/img_53585.jpg',\n",
       " 'test/img_29738.jpg',\n",
       " 'test/img_61544.jpg',\n",
       " 'test/img_83238.jpg',\n",
       " 'test/img_85544.jpg',\n",
       " 'test/img_6946.jpg',\n",
       " 'test/img_7888.jpg',\n",
       " 'test/img_52225.jpg',\n",
       " 'test/img_19587.jpg',\n",
       " 'test/img_46086.jpg',\n",
       " 'test/img_55493.jpg',\n",
       " 'test/img_83875.jpg',\n",
       " 'test/img_98444.jpg',\n",
       " 'test/img_96079.jpg',\n",
       " 'test/img_47392.jpg',\n",
       " 'test/img_2207.jpg',\n",
       " 'test/img_34385.jpg',\n",
       " 'test/img_87991.jpg',\n",
       " 'test/img_95149.jpg',\n",
       " 'test/img_83579.jpg',\n",
       " 'test/img_71970.jpg',\n",
       " 'test/img_22837.jpg',\n",
       " 'test/img_99882.jpg',\n",
       " 'test/img_69238.jpg',\n",
       " 'test/img_52512.jpg',\n",
       " 'test/img_78473.jpg',\n",
       " 'test/img_45890.jpg',\n",
       " 'test/img_31306.jpg',\n",
       " 'test/img_28614.jpg',\n",
       " 'test/img_39243.jpg',\n",
       " 'test/img_97400.jpg',\n",
       " 'test/img_50674.jpg',\n",
       " 'test/img_6304.jpg',\n",
       " 'test/img_84850.jpg',\n",
       " 'test/img_47750.jpg',\n",
       " 'test/img_10085.jpg',\n",
       " 'test/img_79491.jpg',\n",
       " 'test/img_63707.jpg',\n",
       " 'test/img_9112.jpg',\n",
       " 'test/img_14603.jpg',\n",
       " 'test/img_98086.jpg',\n",
       " 'test/img_85594.jpg',\n",
       " 'test/img_45975.jpg',\n",
       " 'test/img_32212.jpg',\n",
       " 'test/img_18165.jpg',\n",
       " 'test/img_79196.jpg',\n",
       " 'test/img_24472.jpg',\n",
       " 'test/img_44248.jpg',\n",
       " 'test/img_101150.jpg',\n",
       " 'test/img_52022.jpg',\n",
       " 'test/img_52965.jpg',\n",
       " 'test/img_19337.jpg',\n",
       " 'test/img_79362.jpg',\n",
       " 'test/img_9923.jpg',\n",
       " 'test/img_14842.jpg',\n",
       " 'test/img_60712.jpg',\n",
       " 'test/img_50053.jpg',\n",
       " 'test/img_24990.jpg',\n",
       " 'test/img_3314.jpg',\n",
       " 'test/img_59396.jpg',\n",
       " 'test/img_22330.jpg',\n",
       " 'test/img_93371.jpg',\n",
       " 'test/img_64178.jpg',\n",
       " 'test/img_70308.jpg',\n",
       " 'test/img_10766.jpg',\n",
       " 'test/img_86990.jpg',\n",
       " 'test/img_86144.jpg',\n",
       " 'test/img_42988.jpg',\n",
       " 'test/img_17874.jpg',\n",
       " 'test/img_57467.jpg',\n",
       " 'test/img_78638.jpg',\n",
       " 'test/img_88960.jpg',\n",
       " 'test/img_22715.jpg',\n",
       " 'test/img_32008.jpg',\n",
       " 'test/img_51566.jpg',\n",
       " 'test/img_33547.jpg',\n",
       " 'test/img_5848.jpg',\n",
       " 'test/img_99772.jpg',\n",
       " 'test/img_76676.jpg',\n",
       " 'test/img_58038.jpg',\n",
       " 'test/img_99863.jpg',\n",
       " 'test/img_40863.jpg',\n",
       " 'test/img_40522.jpg',\n",
       " 'test/img_7660.jpg',\n",
       " 'test/img_11974.jpg',\n",
       " 'test/img_12367.jpg',\n",
       " 'test/img_42559.jpg',\n",
       " 'test/img_36130.jpg',\n",
       " 'test/img_32223.jpg',\n",
       " 'test/img_41319.jpg',\n",
       " 'test/img_66390.jpg',\n",
       " 'test/img_58412.jpg',\n",
       " 'test/img_88547.jpg',\n",
       " 'test/img_25837.jpg',\n",
       " 'test/img_95511.jpg',\n",
       " 'test/img_36268.jpg',\n",
       " 'test/img_2649.jpg',\n",
       " 'test/img_93441.jpg',\n",
       " 'test/img_71501.jpg',\n",
       " 'test/img_18480.jpg',\n",
       " 'test/img_21792.jpg',\n",
       " 'test/img_46791.jpg',\n",
       " 'test/img_89790.jpg',\n",
       " 'test/img_6918.jpg',\n",
       " 'test/img_49448.jpg',\n",
       " 'test/img_50802.jpg',\n",
       " 'test/img_7062.jpg',\n",
       " 'test/img_20067.jpg',\n",
       " 'test/img_22740.jpg',\n",
       " 'test/img_64644.jpg',\n",
       " 'test/img_44550.jpg',\n",
       " 'test/img_72796.jpg',\n",
       " 'test/img_35681.jpg',\n",
       " 'test/img_41342.jpg',\n",
       " 'test/img_21549.jpg',\n",
       " 'test/img_82033.jpg',\n",
       " 'test/img_9811.jpg',\n",
       " 'test/img_44911.jpg',\n",
       " 'test/img_99700.jpg',\n",
       " 'test/img_52704.jpg',\n",
       " 'test/img_73990.jpg',\n",
       " 'test/img_59885.jpg',\n",
       " 'test/img_20515.jpg',\n",
       " 'test/img_85235.jpg',\n",
       " 'test/img_75831.jpg',\n",
       " 'test/img_6080.jpg',\n",
       " 'test/img_95013.jpg',\n",
       " 'test/img_69368.jpg',\n",
       " 'test/img_12608.jpg',\n",
       " 'test/img_44533.jpg',\n",
       " 'test/img_78743.jpg',\n",
       " 'test/img_95046.jpg',\n",
       " 'test/img_14375.jpg',\n",
       " 'test/img_19663.jpg',\n",
       " 'test/img_93658.jpg',\n",
       " 'test/img_13529.jpg',\n",
       " 'test/img_32210.jpg',\n",
       " 'test/img_56566.jpg',\n",
       " 'test/img_69007.jpg',\n",
       " 'test/img_60415.jpg',\n",
       " 'test/img_41331.jpg',\n",
       " 'test/img_14617.jpg',\n",
       " 'test/img_17354.jpg',\n",
       " 'test/img_7058.jpg',\n",
       " 'test/img_95956.jpg',\n",
       " 'test/img_5491.jpg',\n",
       " 'test/img_45199.jpg',\n",
       " 'test/img_39867.jpg',\n",
       " 'test/img_3862.jpg',\n",
       " 'test/img_16111.jpg',\n",
       " 'test/img_61051.jpg',\n",
       " 'test/img_46147.jpg',\n",
       " 'test/img_29585.jpg',\n",
       " 'test/img_79271.jpg',\n",
       " 'test/img_33687.jpg',\n",
       " 'test/img_9642.jpg',\n",
       " 'test/img_67305.jpg',\n",
       " 'test/img_63407.jpg',\n",
       " 'test/img_27581.jpg',\n",
       " 'test/img_49572.jpg',\n",
       " 'test/img_95495.jpg',\n",
       " 'test/img_62301.jpg',\n",
       " 'test/img_34425.jpg',\n",
       " 'test/img_46672.jpg',\n",
       " 'test/img_40424.jpg',\n",
       " 'test/img_16067.jpg',\n",
       " 'test/img_41213.jpg',\n",
       " 'test/img_64999.jpg',\n",
       " 'test/img_80718.jpg',\n",
       " 'test/img_82816.jpg',\n",
       " 'test/img_16257.jpg',\n",
       " 'test/img_92510.jpg',\n",
       " 'test/img_25839.jpg',\n",
       " 'test/img_1966.jpg',\n",
       " 'test/img_99284.jpg',\n",
       " 'test/img_29228.jpg',\n",
       " 'test/img_65551.jpg',\n",
       " 'test/img_86893.jpg',\n",
       " 'test/img_30460.jpg',\n",
       " 'test/img_46263.jpg',\n",
       " 'test/img_82327.jpg',\n",
       " 'test/img_78781.jpg',\n",
       " 'test/img_97382.jpg',\n",
       " 'test/img_76068.jpg',\n",
       " 'test/img_69581.jpg',\n",
       " 'test/img_81082.jpg',\n",
       " 'test/img_12429.jpg',\n",
       " 'test/img_101917.jpg',\n",
       " 'test/img_90579.jpg',\n",
       " 'test/img_102130.jpg',\n",
       " 'test/img_29255.jpg',\n",
       " 'test/img_19301.jpg',\n",
       " 'test/img_73088.jpg',\n",
       " 'test/img_77187.jpg',\n",
       " 'test/img_61594.jpg',\n",
       " 'test/img_1592.jpg',\n",
       " 'test/img_55411.jpg',\n",
       " 'test/img_33230.jpg',\n",
       " 'test/img_72935.jpg',\n",
       " 'test/img_78813.jpg',\n",
       " 'test/img_3393.jpg',\n",
       " 'test/img_88999.jpg',\n",
       " 'test/img_17405.jpg',\n",
       " 'test/img_23012.jpg',\n",
       " 'test/img_62145.jpg',\n",
       " 'test/img_83310.jpg',\n",
       " 'test/img_19305.jpg',\n",
       " 'test/img_37317.jpg',\n",
       " 'test/img_61549.jpg',\n",
       " 'test/img_69789.jpg',\n",
       " 'test/img_35113.jpg',\n",
       " 'test/img_22089.jpg',\n",
       " 'test/img_102069.jpg',\n",
       " 'test/img_51840.jpg',\n",
       " 'test/img_25143.jpg',\n",
       " 'test/img_84039.jpg',\n",
       " 'test/img_93206.jpg',\n",
       " 'test/img_7728.jpg',\n",
       " 'test/img_93227.jpg',\n",
       " 'test/img_32255.jpg',\n",
       " 'test/img_11606.jpg',\n",
       " 'test/img_51034.jpg',\n",
       " 'test/img_82090.jpg',\n",
       " 'test/img_4687.jpg',\n",
       " 'test/img_17279.jpg',\n",
       " 'test/img_89218.jpg',\n",
       " 'test/img_89335.jpg',\n",
       " 'test/img_64781.jpg',\n",
       " 'test/img_9135.jpg',\n",
       " 'test/img_45457.jpg',\n",
       " 'test/img_66225.jpg',\n",
       " 'test/img_61426.jpg',\n",
       " 'test/img_37391.jpg',\n",
       " 'test/img_90265.jpg',\n",
       " 'test/img_101217.jpg',\n",
       " 'test/img_89161.jpg',\n",
       " 'test/img_21338.jpg',\n",
       " 'test/img_97016.jpg',\n",
       " 'test/img_24360.jpg',\n",
       " 'test/img_57038.jpg',\n",
       " 'test/img_39182.jpg',\n",
       " 'test/img_84675.jpg',\n",
       " 'test/img_39617.jpg',\n",
       " 'test/img_82266.jpg',\n",
       " 'test/img_14843.jpg',\n",
       " 'test/img_72263.jpg',\n",
       " 'test/img_10118.jpg',\n",
       " 'test/img_48354.jpg',\n",
       " 'test/img_52029.jpg',\n",
       " 'test/img_28863.jpg',\n",
       " 'test/img_66781.jpg',\n",
       " 'test/img_88825.jpg',\n",
       " 'test/img_90352.jpg',\n",
       " 'test/img_35038.jpg',\n",
       " 'test/img_51657.jpg',\n",
       " 'test/img_90723.jpg',\n",
       " 'test/img_95387.jpg',\n",
       " 'test/img_34428.jpg',\n",
       " 'test/img_22286.jpg',\n",
       " 'test/img_29493.jpg',\n",
       " 'test/img_87194.jpg',\n",
       " 'test/img_95195.jpg',\n",
       " 'test/img_81611.jpg',\n",
       " 'test/img_35805.jpg',\n",
       " 'test/img_4112.jpg',\n",
       " 'test/img_41287.jpg',\n",
       " 'test/img_84944.jpg',\n",
       " 'test/img_38283.jpg',\n",
       " 'test/img_80881.jpg',\n",
       " 'test/img_86231.jpg',\n",
       " 'test/img_28242.jpg',\n",
       " 'test/img_84411.jpg',\n",
       " 'test/img_3897.jpg',\n",
       " 'test/img_75997.jpg',\n",
       " 'test/img_98558.jpg',\n",
       " 'test/img_93473.jpg',\n",
       " 'test/img_92538.jpg',\n",
       " 'test/img_65781.jpg',\n",
       " 'test/img_8620.jpg',\n",
       " 'test/img_4299.jpg',\n",
       " 'test/img_67774.jpg',\n",
       " 'test/img_38655.jpg',\n",
       " 'test/img_39889.jpg',\n",
       " 'test/img_63931.jpg',\n",
       " 'test/img_60002.jpg',\n",
       " 'test/img_9303.jpg',\n",
       " 'test/img_14802.jpg',\n",
       " 'test/img_35137.jpg',\n",
       " 'test/img_35640.jpg',\n",
       " 'test/img_44486.jpg',\n",
       " 'test/img_1294.jpg',\n",
       " 'test/img_515.jpg',\n",
       " 'test/img_26474.jpg',\n",
       " 'test/img_36720.jpg',\n",
       " 'test/img_2109.jpg',\n",
       " 'test/img_35583.jpg',\n",
       " 'test/img_88981.jpg',\n",
       " 'test/img_4023.jpg',\n",
       " 'test/img_26132.jpg',\n",
       " 'test/img_58805.jpg',\n",
       " 'test/img_62873.jpg',\n",
       " 'test/img_3405.jpg',\n",
       " 'test/img_19965.jpg',\n",
       " 'test/img_68448.jpg',\n",
       " 'test/img_58006.jpg',\n",
       " 'test/img_83427.jpg',\n",
       " 'test/img_99592.jpg',\n",
       " 'test/img_55182.jpg',\n",
       " 'test/img_62695.jpg',\n",
       " 'test/img_96450.jpg',\n",
       " 'test/img_23586.jpg',\n",
       " 'test/img_73370.jpg',\n",
       " 'test/img_26179.jpg',\n",
       " 'test/img_11070.jpg',\n",
       " 'test/img_27559.jpg',\n",
       " 'test/img_73142.jpg',\n",
       " 'test/img_99223.jpg',\n",
       " 'test/img_95788.jpg',\n",
       " 'test/img_80687.jpg',\n",
       " 'test/img_67378.jpg',\n",
       " 'test/img_18986.jpg',\n",
       " 'test/img_21073.jpg',\n",
       " 'test/img_86371.jpg',\n",
       " 'test/img_30852.jpg',\n",
       " 'test/img_96403.jpg',\n",
       " 'test/img_49396.jpg',\n",
       " 'test/img_18982.jpg',\n",
       " 'test/img_88595.jpg',\n",
       " 'test/img_100971.jpg',\n",
       " 'test/img_2157.jpg',\n",
       " 'test/img_54417.jpg',\n",
       " 'test/img_76699.jpg',\n",
       " 'test/img_56898.jpg',\n",
       " 'test/img_75614.jpg',\n",
       " 'test/img_88571.jpg',\n",
       " 'test/img_79083.jpg',\n",
       " 'test/img_60667.jpg',\n",
       " 'test/img_47008.jpg',\n",
       " 'test/img_55829.jpg',\n",
       " 'test/img_73204.jpg',\n",
       " 'test/img_89026.jpg',\n",
       " 'test/img_23907.jpg',\n",
       " 'test/img_44192.jpg',\n",
       " 'test/img_50514.jpg',\n",
       " 'test/img_89027.jpg',\n",
       " 'test/img_3992.jpg',\n",
       " 'test/img_33813.jpg',\n",
       " 'test/img_96899.jpg',\n",
       " 'test/img_85480.jpg',\n",
       " 'test/img_5308.jpg',\n",
       " 'test/img_92501.jpg',\n",
       " 'test/img_12697.jpg',\n",
       " 'test/img_96105.jpg',\n",
       " 'test/img_62423.jpg',\n",
       " 'test/img_11405.jpg',\n",
       " 'test/img_16859.jpg',\n",
       " 'test/img_20511.jpg',\n",
       " 'test/img_34334.jpg',\n",
       " 'test/img_73200.jpg',\n",
       " 'test/img_5859.jpg',\n",
       " 'test/img_9407.jpg',\n",
       " 'test/img_87579.jpg',\n",
       " 'test/img_77789.jpg',\n",
       " 'test/img_74356.jpg',\n",
       " 'test/img_6548.jpg',\n",
       " 'test/img_15030.jpg',\n",
       " 'test/img_77511.jpg',\n",
       " 'test/img_38653.jpg',\n",
       " 'test/img_5212.jpg',\n",
       " 'test/img_8215.jpg',\n",
       " 'test/img_93337.jpg',\n",
       " 'test/img_52271.jpg',\n",
       " 'test/img_21769.jpg',\n",
       " 'test/img_32104.jpg',\n",
       " 'test/img_14980.jpg',\n",
       " 'test/img_8236.jpg',\n",
       " 'test/img_61759.jpg',\n",
       " 'test/img_92673.jpg',\n",
       " 'test/img_81619.jpg',\n",
       " 'test/img_12432.jpg',\n",
       " 'test/img_53840.jpg',\n",
       " 'test/img_101847.jpg',\n",
       " 'test/img_15724.jpg',\n",
       " 'test/img_72004.jpg',\n",
       " 'test/img_64889.jpg',\n",
       " 'test/img_1222.jpg',\n",
       " 'test/img_53111.jpg',\n",
       " 'test/img_96979.jpg',\n",
       " 'test/img_28604.jpg',\n",
       " 'test/img_32760.jpg',\n",
       " 'test/img_59284.jpg',\n",
       " 'test/img_76515.jpg',\n",
       " 'test/img_329.jpg',\n",
       " 'test/img_85419.jpg',\n",
       " 'test/img_48757.jpg',\n",
       " 'test/img_25875.jpg',\n",
       " 'test/img_10614.jpg',\n",
       " 'test/img_33978.jpg',\n",
       " 'test/img_80771.jpg',\n",
       " 'test/img_97448.jpg',\n",
       " 'test/img_6340.jpg',\n",
       " 'test/img_4077.jpg',\n",
       " 'test/img_38160.jpg',\n",
       " 'test/img_78808.jpg',\n",
       " 'test/img_96228.jpg',\n",
       " 'test/img_83151.jpg',\n",
       " 'test/img_40860.jpg',\n",
       " 'test/img_100404.jpg',\n",
       " 'test/img_50777.jpg',\n",
       " 'test/img_97459.jpg',\n",
       " 'test/img_6605.jpg',\n",
       " 'test/img_100062.jpg',\n",
       " 'test/img_67721.jpg',\n",
       " 'test/img_77817.jpg',\n",
       " 'test/img_32826.jpg',\n",
       " 'test/img_82361.jpg',\n",
       " 'test/img_59973.jpg',\n",
       " 'test/img_24101.jpg',\n",
       " 'test/img_64287.jpg',\n",
       " 'test/img_22299.jpg',\n",
       " 'test/img_98177.jpg',\n",
       " 'test/img_42007.jpg',\n",
       " 'test/img_32423.jpg',\n",
       " 'test/img_41310.jpg',\n",
       " 'test/img_96174.jpg',\n",
       " 'test/img_98055.jpg',\n",
       " 'test/img_70470.jpg',\n",
       " 'test/img_45140.jpg',\n",
       " 'test/img_79459.jpg',\n",
       " 'test/img_23479.jpg',\n",
       " 'test/img_100380.jpg',\n",
       " 'test/img_70049.jpg',\n",
       " 'test/img_79680.jpg',\n",
       " 'test/img_72838.jpg',\n",
       " 'test/img_42681.jpg',\n",
       " 'test/img_32206.jpg',\n",
       " 'test/img_101595.jpg',\n",
       " 'test/img_90698.jpg',\n",
       " 'test/img_32807.jpg',\n",
       " 'test/img_78866.jpg',\n",
       " 'test/img_21543.jpg',\n",
       " 'test/img_83501.jpg',\n",
       " 'test/img_25731.jpg',\n",
       " 'test/img_47862.jpg',\n",
       " 'test/img_76601.jpg',\n",
       " 'test/img_44474.jpg',\n",
       " 'test/img_96746.jpg',\n",
       " 'test/img_8135.jpg',\n",
       " 'test/img_37746.jpg',\n",
       " 'test/img_62601.jpg',\n",
       " 'test/img_84891.jpg',\n",
       " 'test/img_18463.jpg',\n",
       " 'test/img_10193.jpg',\n",
       " 'test/img_73625.jpg',\n",
       " 'test/img_63680.jpg',\n",
       " 'test/img_26775.jpg',\n",
       " 'test/img_14003.jpg',\n",
       " 'test/img_55877.jpg',\n",
       " 'test/img_74909.jpg',\n",
       " 'test/img_5346.jpg',\n",
       " 'test/img_93935.jpg',\n",
       " 'test/img_44730.jpg',\n",
       " 'test/img_27257.jpg',\n",
       " 'test/img_48577.jpg',\n",
       " 'test/img_88826.jpg',\n",
       " 'test/img_18732.jpg',\n",
       " 'test/img_101642.jpg',\n",
       " 'test/img_36493.jpg',\n",
       " 'test/img_79056.jpg',\n",
       " 'test/img_44726.jpg',\n",
       " 'test/img_13291.jpg',\n",
       " 'test/img_29698.jpg',\n",
       " 'test/img_63102.jpg',\n",
       " 'test/img_68312.jpg',\n",
       " 'test/img_72473.jpg',\n",
       " 'test/img_24198.jpg',\n",
       " 'test/img_89619.jpg',\n",
       " 'test/img_39873.jpg',\n",
       " 'test/img_23593.jpg',\n",
       " 'test/img_1184.jpg',\n",
       " 'test/img_54141.jpg',\n",
       " 'test/img_96372.jpg',\n",
       " 'test/img_23375.jpg',\n",
       " 'test/img_17165.jpg',\n",
       " 'test/img_16444.jpg',\n",
       " 'test/img_76256.jpg',\n",
       " 'test/img_9854.jpg',\n",
       " 'test/img_47453.jpg',\n",
       " 'test/img_35009.jpg',\n",
       " 'test/img_82413.jpg',\n",
       " 'test/img_76328.jpg',\n",
       " 'test/img_33836.jpg',\n",
       " 'test/img_52832.jpg',\n",
       " 'test/img_60277.jpg',\n",
       " 'test/img_17991.jpg',\n",
       " 'test/img_69011.jpg',\n",
       " 'test/img_58647.jpg',\n",
       " 'test/img_60178.jpg',\n",
       " 'test/img_34713.jpg',\n",
       " 'test/img_61244.jpg',\n",
       " 'test/img_87439.jpg',\n",
       " 'test/img_86352.jpg',\n",
       " 'test/img_84775.jpg',\n",
       " 'test/img_50978.jpg',\n",
       " 'test/img_102079.jpg',\n",
       " 'test/img_51597.jpg',\n",
       " 'test/img_45680.jpg',\n",
       " 'test/img_4501.jpg',\n",
       " 'test/img_30825.jpg',\n",
       " 'test/img_69829.jpg',\n",
       " 'test/img_92001.jpg',\n",
       " 'test/img_59641.jpg',\n",
       " 'test/img_73006.jpg',\n",
       " 'test/img_8184.jpg',\n",
       " 'test/img_19550.jpg',\n",
       " 'test/img_23605.jpg',\n",
       " 'test/img_4283.jpg',\n",
       " 'test/img_81814.jpg',\n",
       " 'test/img_4812.jpg',\n",
       " 'test/img_36996.jpg',\n",
       " 'test/img_16914.jpg',\n",
       " 'test/img_9399.jpg',\n",
       " 'test/img_91261.jpg',\n",
       " 'test/img_87285.jpg',\n",
       " 'test/img_60949.jpg',\n",
       " 'test/img_56715.jpg',\n",
       " 'test/img_34688.jpg',\n",
       " 'test/img_86541.jpg',\n",
       " 'test/img_76912.jpg',\n",
       " 'test/img_68719.jpg',\n",
       " 'test/img_34018.jpg',\n",
       " 'test/img_16237.jpg',\n",
       " 'test/img_36643.jpg',\n",
       " 'test/img_68922.jpg',\n",
       " 'test/img_92594.jpg',\n",
       " 'test/img_101827.jpg',\n",
       " 'test/img_7121.jpg',\n",
       " 'test/img_101174.jpg',\n",
       " 'test/img_35440.jpg',\n",
       " 'test/img_75219.jpg',\n",
       " 'test/img_28954.jpg',\n",
       " ...]"
      ]
     },
     "execution_count": 31,
     "metadata": {},
     "output_type": "execute_result"
    }
   ],
   "source": [
    "data.test_ds.fnames"
   ]
  },
  {
   "cell_type": "code",
   "execution_count": 19,
   "metadata": {},
   "outputs": [
    {
     "data": {
      "text/plain": [
       "(5, 4484, 10)"
      ]
     },
     "execution_count": 19,
     "metadata": {},
     "output_type": "execute_result"
    }
   ],
   "source": [
    "np.shape(probs)"
   ]
  },
  {
   "cell_type": "code",
   "execution_count": 20,
   "metadata": {},
   "outputs": [
    {
     "data": {
      "text/plain": [
       "(5, 4484, 10)"
      ]
     },
     "execution_count": 20,
     "metadata": {},
     "output_type": "execute_result"
    }
   ],
   "source": [
    "np.shape(log_preds)"
   ]
  },
  {
   "cell_type": "code",
   "execution_count": 21,
   "metadata": {},
   "outputs": [
    {
     "data": {
      "text/plain": [
       "(4484,)"
      ]
     },
     "execution_count": 21,
     "metadata": {},
     "output_type": "execute_result"
    }
   ],
   "source": [
    "np.shape(y)"
   ]
  },
  {
   "cell_type": "code",
   "execution_count": 23,
   "metadata": {},
   "outputs": [
    {
     "data": {
      "text/plain": [
       "array([[[0.00002, 0.00001, 0.     , 0.00001, 0.00002, 0.0001 , 0.00003, 0.     , 0.99977, 0.00002],\n",
       "        [0.00017, 0.00277, 0.01096, 0.00011, 0.00016, 0.00085, 0.98474, 0.00002, 0.00001, 0.00022],\n",
       "        [0.00018, 0.     , 0.00016, 0.00024, 0.00003, 0.99884, 0.00041, 0.     , 0.00003, 0.00011],\n",
       "        [0.99075, 0.00008, 0.00001, 0.00186, 0.0007 , 0.00194, 0.00009, 0.00001, 0.00042, 0.00415]],\n",
       "\n",
       "       [[0.00002, 0.00001, 0.     , 0.00001, 0.00002, 0.0001 , 0.00003, 0.     , 0.99977, 0.00002],\n",
       "        [0.00017, 0.00277, 0.01096, 0.00011, 0.00016, 0.00085, 0.98474, 0.00002, 0.00001, 0.00022],\n",
       "        [0.00018, 0.     , 0.00016, 0.00024, 0.00003, 0.99884, 0.00041, 0.     , 0.00003, 0.00011],\n",
       "        [0.99075, 0.00008, 0.00001, 0.00186, 0.0007 , 0.00194, 0.00009, 0.00001, 0.00042, 0.00415]],\n",
       "\n",
       "       [[0.00002, 0.00001, 0.     , 0.00001, 0.00002, 0.0001 , 0.00003, 0.     , 0.99977, 0.00002],\n",
       "        [0.00017, 0.00277, 0.01096, 0.00011, 0.00016, 0.00085, 0.98474, 0.00002, 0.00001, 0.00022],\n",
       "        [0.00018, 0.     , 0.00016, 0.00024, 0.00003, 0.99884, 0.00041, 0.     , 0.00003, 0.00011],\n",
       "        [0.99075, 0.00008, 0.00001, 0.00186, 0.0007 , 0.00194, 0.00009, 0.00001, 0.00042, 0.00415]],\n",
       "\n",
       "       [[0.00002, 0.00001, 0.     , 0.00001, 0.00002, 0.0001 , 0.00003, 0.     , 0.99977, 0.00002],\n",
       "        [0.00017, 0.00277, 0.01096, 0.00011, 0.00016, 0.00085, 0.98474, 0.00002, 0.00001, 0.00022],\n",
       "        [0.00018, 0.     , 0.00016, 0.00024, 0.00003, 0.99884, 0.00041, 0.     , 0.00003, 0.00011],\n",
       "        [0.99075, 0.00008, 0.00001, 0.00186, 0.0007 , 0.00194, 0.00009, 0.00001, 0.00042, 0.00415]],\n",
       "\n",
       "       [[0.00002, 0.00001, 0.     , 0.00001, 0.00002, 0.0001 , 0.00003, 0.     , 0.99977, 0.00002],\n",
       "        [0.00017, 0.00277, 0.01096, 0.00011, 0.00016, 0.00085, 0.98474, 0.00002, 0.00001, 0.00022],\n",
       "        [0.00018, 0.     , 0.00016, 0.00024, 0.00003, 0.99884, 0.00041, 0.     , 0.00003, 0.00011],\n",
       "        [0.99075, 0.00008, 0.00001, 0.00186, 0.0007 , 0.00194, 0.00009, 0.00001, 0.00042, 0.00415]]],\n",
       "      dtype=float32)"
      ]
     },
     "execution_count": 23,
     "metadata": {},
     "output_type": "execute_result"
    }
   ],
   "source": [
    "probs[:,:4,:]"
   ]
  },
  {
   "cell_type": "code",
   "execution_count": 25,
   "metadata": {},
   "outputs": [
    {
     "data": {
      "text/plain": [
       "array([8, 6, 5, 0, 5, 2, 6, 9, 6, 2])"
      ]
     },
     "execution_count": 25,
     "metadata": {},
     "output_type": "execute_result"
    }
   ],
   "source": [
    "y[:10]"
   ]
  },
  {
   "cell_type": "code",
   "execution_count": null,
   "metadata": {},
   "outputs": [],
   "source": [
    "trn_tfms,val_tfms = tfms_from_model(arch,sz)"
   ]
  }
 ],
 "metadata": {
  "kernelspec": {
   "display_name": "Python 3",
   "language": "python",
   "name": "python3"
  },
  "language_info": {
   "codemirror_mode": {
    "name": "ipython",
    "version": 3
   },
   "file_extension": ".py",
   "mimetype": "text/x-python",
   "name": "python",
   "nbconvert_exporter": "python",
   "pygments_lexer": "ipython3",
   "version": "3.6.4"
  }
 },
 "nbformat": 4,
 "nbformat_minor": 2
}
